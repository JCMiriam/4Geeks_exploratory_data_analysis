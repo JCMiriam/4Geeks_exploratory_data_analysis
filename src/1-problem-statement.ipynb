{
 "cells": [
  {
   "cell_type": "code",
   "execution_count": null,
   "metadata": {
    "vscode": {
     "languageId": "plaintext"
    }
   },
   "outputs": [],
   "source": [
    "# Imports\n",
    "import pandas as pd"
   ]
  },
  {
   "cell_type": "code",
   "execution_count": null,
   "metadata": {
    "vscode": {
     "languageId": "plaintext"
    }
   },
   "outputs": [],
   "source": [
    "# Get Data Frame\n",
    "df = pd.read_csv('../data/raw/AB_NYC_2019.csv')\n",
    "df.head()"
   ]
  },
  {
   "cell_type": "markdown",
   "metadata": {},
   "source": [
    "| Campo                          | Descripción                                                     | Tipo                                      |\n",
    "|:-------------------------------|:----------------------------------------------------------------|:-----------------------------------------:|\n",
    "| id                             | <span style=\"color: grey;\">Identificador</span>                 | <span style=\"color: grey;\">*int*</span>   |\n",
    "| name                           | <span style=\"color: grey;\">Nombre del alojamiento</span>        | <span style=\"color: grey;\">*str*</span>   |\n",
    "| host_id                        | <span style=\"color: grey;\">Identificador del anfitrión</span>   | <span style=\"color: grey;\">*int*</span>   |\n",
    "| neighbourhood_group            | <span style=\"color: grey;\">Distrito</span>                      | <span style=\"color: grey;\">*str*</span>   |\n",
    "| neighbourhood                  | <span style=\"color: grey;\">Barrio</span>                        | <span style=\"color: grey;\">*str*</span>   |\n",
    "| latitude                       | <span style=\"color: grey;\">Latitud</span>                       | <span style=\"color: grey;\">*float*</span> |\n",
    "| longitude                      | <span style=\"color: grey;\">Longitud</span>                      | <span style=\"color: grey;\">*float*</span> |\n",
    "| room_type                      | <span style=\"color: grey;\">Tipo de estancia</span>              | <span style=\"color: grey;\">*str*</span>   |\n",
    "| price                          | <span style=\"color: grey;\">Precio</span>                        | <span style=\"color: grey;\">*float*</span> |\n",
    "| minimum_nights                 | <span style=\"color: grey;\">Número mínimo de noches</span>       | <span style=\"color: grey;\">*int*</span>   |\n",
    "| number_of_reviews              | <span style=\"color: grey;\">Número de reviews</span>             | <span style=\"color: grey;\">*int*</span>   |\n",
    "| last_review                    | <span style=\"color: grey;\">Última review</span>                 | <span style=\"color: grey;\">*date*</span>  |\n",
    "| reviews_per_month              | <span style=\"color: grey;\">Número de reviews por mes</span>     | <span style=\"color: grey;\">*float*</span> |\n",
    "| calculated_host_listings_count | <span style=\"color: grey;\">Recuento de anfitriones</span>       | <span style=\"color: grey;\">*int*</span>   |\n",
    "| availability_365               | <span style=\"color: grey;\">Disponibilidad anual</span>          | <span style=\"color: grey;\">*int*</span>   |"
   ]
  },
  {
   "cell_type": "markdown",
   "metadata": {},
   "source": [
    "<h3>Posibles relaciones o cuestiones</h3>\n",
    "Analizar los diferentes factores que influyen en los detalles de los alojamientos (ubicación, precio, tipo de alojamiento, numero mínimo de noches, número de reviews, etc) y cómo esto afecta en la cantidad de inquilinos en cada alojamiento.\n",
    "\n",
    "<span style=\"color: steelblue;\">** </span><span style=\"color: grey;\">*Para las relaciones que se repiten en otros grupos*</span>\n",
    "\n",
    "<h4>¿Puede tener alguna relación medible el nombre de un alojamiento con la cantidad de gente que decide alojarse en él?</h4>\n",
    "\n",
    "| En relación al nombre:                                                                                   |                                           |\n",
    "|:---------------------------------------------------------------------------------------------------------|:-----------------------------------------:|\n",
    "| <span style=\"color: grey;\">Nombre del alojamiento con más y menos inquilinos</span>                      |                                           |\n",
    "| <span style=\"color: grey;\">Nombre del alojamiento con más y menos reviews</span>                         |                                           |\n",
    "| <span style=\"color: grey;\">Relación entre la longitud del nombre y el número de reviews</span>           | <span style=\"color: steelblue;\">**</span> |\n",
    "| <span style=\"color: grey;\">Posibilidad de analizar palabras clave en base a reviews</span>               |                                           |\n",
    "\n",
    "<br>\n",
    "<br>\n",
    "<h4>¿Cuáles son los costes de los alojamientos según ubicación, tipo de estancia o disponibilidad?</h4>\n",
    "\n",
    "| En relación al precio:                                                                                   |                                           |\n",
    "|:---------------------------------------------------------------------------------------------------------|:-----------------------------------------:|\n",
    "| <span style=\"color: grey;\">Datos del alojamiento más caro</span>                                         |                                           |\n",
    "| <span style=\"color: grey;\">Datos del alojamiento más barato</span>                                       |                                           |\n",
    "| <span style=\"color: grey;\">Relación entre el precio y la ubicación</span>                                | <span style=\"color: steelblue;\">**</span> |\n",
    "| <span style=\"color: grey;\">&nbsp;&nbsp;&nbsp;&nbsp;Precio medio por distrito</span>                      |                                           |\n",
    "| <span style=\"color: grey;\">&nbsp;&nbsp;&nbsp;&nbsp;Precio medio por barrio</span>                        |                                           |\n",
    "| <span style=\"color: grey;\">&nbsp;&nbsp;&nbsp;&nbsp;Precio más alto y barato por distrito</span>          |                                           |\n",
    "| <span style=\"color: grey;\">&nbsp;&nbsp;&nbsp;&nbsp;Precio más alto y barato por barrio</span>            |                                           |\n",
    "| <span style=\"color: grey;\">Relación entre precio y tipo de estancia</span>                               | <span style=\"color: steelblue;\">**</span> |\n",
    "| <span style=\"color: grey;\">&nbsp;&nbsp;&nbsp;&nbsp;Precio medio por tipo de estancia</span>              |                                           |\n",
    "| <span style=\"color: grey;\">&nbsp;&nbsp;&nbsp;&nbsp;Precio más alto y barato por tipo de estancia</span>  |                                           |\n",
    "| <span style=\"color: grey;\">Relación entre precio y número mínimo de noches</span>                        |                                           |\n",
    "| <span style=\"color: grey;\">Relación entre precio y número de reviews</span>                              | <span style=\"color: steelblue;\">**</span> |\n",
    "| <span style=\"color: grey;\">Relación entre precio y la review más reciente</span>                         | <span style=\"color: steelblue;\">**</span> |\n",
    "| <span style=\"color: grey;\">Relación entre precio y número de reviews por mes</span>                      | <span style=\"color: steelblue;\">**</span> |\n",
    "| <span style=\"color: grey;\">Relación entre precio y disponibilidad anual</span>                           |                                           |\n",
    "\n",
    "<br>\n",
    "<br>\n",
    "<h4>¿Cuál es la relación entre la ubicación y el precio, la estancia?¿Cuál es la ubicación más cara y más barata?¿Cuál es la ubicación en la que se alojan más inquilinos y la que menos?</h4>\n",
    "\n",
    "| En relación a la ubicación:                                                                              |                                           |\n",
    "|:---------------------------------------------------------------------------------------------------------|:-----------------------------------------:|\n",
    "| <span style=\"color: grey;\">Mapa con alojamientos en base a su latitud y longitud</span>                  |                                           |\n",
    "| <span style=\"color: grey;\">Número de alojamientos por distrito</span>                                    |                                           |\n",
    "| <span style=\"color: grey;\">Número de alojamientos por barrio</span>                                      |                                           |\n",
    "| <span style=\"color: grey;\">Relación entre el precio y la ubicación</span>                                | <span style=\"color: steelblue;\">**</span> |\n",
    "| <span style=\"color: grey;\">Relación entre el tipo de estancia y la ubicación</span>                      |                                           |\n",
    "| <span style=\"color: grey;\">Relación entre el número de reviews y la ubicación del alojamiento</span>     | <span style=\"color: steelblue;\">**</span> |\n",
    "| <span style=\"color: grey;\">Relación entre la review más reciente y la ubicación del alojamiento</span>   |                                           |\n",
    "| <span style=\"color: grey;\">Relación entre las reviews por mes y la ubicación del alojamiento</span>      |                                           |\n",
    "\n",
    "<br>\n",
    "<br>\n",
    "<h4>¿Cuál es la relación entre el tipo de estancia y el precio, o la cantidad de reviews?¿Cuál es el tipo de estancia preferida por los inquilinos?</h4>\n",
    "\n",
    "| En relación al tipo de estancia:                                                                         |                                           |\n",
    "|:---------------------------------------------------------------------------------------------------------|:-----------------------------------------:|\n",
    "| <span style=\"color: grey;\">Relación entre precio y tipo de estancia</span>                               | <span style=\"color: steelblue;\">**</span> |\n",
    "| <span style=\"color: grey;\">&nbsp;&nbsp;&nbsp;&nbsp;Precio medio por tipo de estancia</span>              |                                           |\n",
    "| <span style=\"color: grey;\">Relación entre el número de reviews y el tipo de estancia</span>              | <span style=\"color: steelblue;\">**</span> |\n",
    "| <span style=\"color: grey;\">Relación entre la review más reciente y el tipo de estancia</span>            |                                           |\n",
    "| <span style=\"color: grey;\">&nbsp;&nbsp;&nbsp;&nbsp;Mapa de calor de estancias favoritas por fecha</span> |                                           |\n",
    "| <span style=\"color: grey;\">Relación entre las reviews por mes y el tipo de estancia</span>               |                                           |\n",
    "| <span style=\"color: grey;\">Relación entre la disponibilidad anual y el tipo de estancia</span>           |                                           |\n",
    "\n",
    "<br>\n",
    "<br>\n",
    "<h4>Contemplando el número de reviews como número de inquilinos que se han alojado en una estancia, ¿cuál es el alojamiento en el que se han alojado más inquilinos y el que menos? ¿Tiene relevancia el precio, la ubicación, el tipo de estancia?\n",
    "¿Puede influir el nombre, la disponibilidad o la fecha de la última review?\n",
    "</h4>\n",
    "\n",
    "| En relación a las reviews:                                                                               |                                           |\n",
    "|:---------------------------------------------------------------------------------------------------------|:-----------------------------------------:|\n",
    "| <span style=\"color: grey;\">Relación entre la longitud del nombre y el número de reviews</span>           | <span style=\"color: steelblue;\">**</span> |\n",
    "| <span style=\"color: grey;\">Relación entre precio y el número de reviews</span>                           | <span style=\"color: steelblue;\">**</span> |\n",
    "| <span style=\"color: grey;\">Relación entre la ubicación del alojamiento y el número de reviews</span>     | <span style=\"color: steelblue;\">**</span> |\n",
    "| <span style=\"color: grey;\">Relación entre el tipo de estancia y el número de reviews</span>              | <span style=\"color: steelblue;\">**</span> |\n",
    "| <span style=\"color: grey;\">Relación entre el número mínimo de noches y el número de reviews</span>       |                                           |\n",
    "| <span style=\"color: grey;\">Relación entre la última review y el número de reviews</span>                 |                                           |\n",
    "| <span style=\"color: grey;\">Relación entre la disponibilidad y el número de reviews</span>                |                                           |"
   ]
  }
 ],
 "metadata": {
  "language_info": {
   "name": "python"
  }
 },
 "nbformat": 4,
 "nbformat_minor": 2
}
