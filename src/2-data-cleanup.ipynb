{
 "cells": [
  {
   "cell_type": "code",
   "execution_count": null,
   "metadata": {
    "vscode": {
     "languageId": "plaintext"
    }
   },
   "outputs": [],
   "source": [
    "# Imports\n",
    "import pandas as pd\n",
    "import sqlite3"
   ]
  },
  {
   "cell_type": "code",
   "execution_count": null,
   "metadata": {
    "vscode": {
     "languageId": "plaintext"
    }
   },
   "outputs": [],
   "source": [
    "# Get Data Frame\n",
    "df = pd.read_csv('../data/raw/AB_NYC_2019.csv')\n",
    "df.head()"
   ]
  },
  {
   "cell_type": "code",
   "execution_count": null,
   "metadata": {
    "vscode": {
     "languageId": "plaintext"
    }
   },
   "outputs": [],
   "source": [
    "# Get each column type and check if there are more than one type per column to unify them\n",
    "column_types = df.dtypes\n",
    "\n",
    "formatted_types = {\n",
    "    column: column_types[column].name if column_types[column] != 'bool' else 'boolean' \n",
    "    for column in df.columns\n",
    "}\n",
    "\n",
    "def get_types_per_column(df_columns):\n",
    "    for column in df_columns:\n",
    "        column_types = df[column].apply(type).unique()\n",
    "        if len(column_types) > 1:\n",
    "            type_names = [t.__name__ for t in column_types]\n",
    "            print(f'{column}: <{type_names}>')\n",
    "        else:\n",
    "            print(f'{column}: <{column_types[0].__name__}>')\n",
    "\n",
    "get_types_per_column(df.columns)"
   ]
  },
  {
   "cell_type": "code",
   "execution_count": null,
   "metadata": {
    "vscode": {
     "languageId": "plaintext"
    }
   },
   "outputs": [],
   "source": [
    "# Clean data types\n",
    "df['name'] = df['name'].astype(str)\n",
    "df['host_name'] = df['host_name'].astype(str)\n",
    "df['last_review'] = pd.to_datetime(df['last_review'], errors='coerce')\n",
    "\n",
    "mean_date = df['last_review'].dropna().mean()\n",
    "df['last_review'] = df['last_review'].fillna(mean_date)\n",
    "df['last_review'] = df['last_review'].dt.date\n",
    "\n",
    "mean_reviews_per_month = df['reviews_per_month'].dropna().mean()\n",
    "df['reviews_per_month'] = df['reviews_per_month'].fillna(mean_reviews_per_month)\n",
    "\n",
    "get_types_per_column(df.columns)"
   ]
  }
 ],
 "metadata": {
  "language_info": {
   "name": "python"
  }
 },
 "nbformat": 4,
 "nbformat_minor": 2
}
